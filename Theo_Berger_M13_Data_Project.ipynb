{
 "cells": [
  {
   "cell_type": "markdown",
   "id": "da990db0",
   "metadata": {},
   "source": [
    "# M13 VC Data Project\n",
    "\n",
    "This project simulates a venture capital analysis using mock startup funding data. The goal is to extract insights across sectors, rounds, and investor behaviors using SQL and Python."
   ]
  },
  {
   "cell_type": "code",
   "execution_count": null,
   "id": "e0a13da2",
   "metadata": {},
   "outputs": [],
   "source": [
    "import pandas as pd\n",
    "import sqlite3\n",
    "import matplotlib.pyplot as plt\n",
    "\n",
    "\n",
    "df = pd.read_csv('mock_startup_funding_data.csv')\n",
    "df.head()"
   ]
  },
  {
   "cell_type": "code",
   "execution_count": null,
   "id": "88f54719",
   "metadata": {},
   "outputs": [],
   "source": [
    "conn = sqlite3.connect(':memory:')\n",
    "df.to_sql('funding', conn, index=False, if_exists='replace')"
   ]
  },
  {
   "cell_type": "markdown",
   "id": "b6f1d216",
   "metadata": {},
   "source": [
    "## Total Seed Funding by Sector"
   ]
  },
  {
   "cell_type": "code",
   "execution_count": null,
   "id": "97c16b53",
   "metadata": {},
   "outputs": [],
   "source": [
    "query1 = \"\"\"\n",
    "SELECT sector, ROUND(SUM(amount_million), 2) as total_seed_funding\n",
    "FROM funding\n",
    "WHERE round_type = 'Seed'\n",
    "GROUP BY sector\n",
    "ORDER BY total_seed_funding DESC;\n",
    "\"\"\"\n",
    "print(pd.read_sql(query1, conn))"
   ]
  },
  {
   "cell_type": "code",
   "execution_count": null,
   "id": "bf92b503",
   "metadata": {},
   "outputs": [],
   "source": [
    "seed_df = df[df['round_type'] == 'Seed']\n",
    "plot_df = seed_df.groupby('sector')['amount_million'].sum().sort_values()\n",
    "plot_df.plot(kind='barh', figsize=(10, 6), title='Total Seed Funding by Sector')\n",
    "plt.xlabel('Total Funding ($M)')\n",
    "plt.ylabel('Sector')\n",
    "plt.tight_layout()\n",
    "plt.show()"
   ]
  },
  {
   "cell_type": "markdown",
   "id": "2945fb45",
   "metadata": {},
   "source": [
    "## Funding by Round Type per Investor"
   ]
  },
  {
   "cell_type": "code",
   "execution_count": null,
   "id": "7bcda17b",
   "metadata": {},
   "outputs": [],
   "source": [
    "query2 = \"\"\"\n",
    "SELECT investor, round_type, ROUND(SUM(amount_million), 2) AS total_invested\n",
    "FROM funding\n",
    "GROUP BY investor, round_type\n",
    "ORDER BY investor, total_invested DESC;\n",
    "\"\"\"\n",
    "result2 = pd.read_sql(query2, conn)\n",
    "result2.pivot(index='investor', columns='round_type', values='total_invested').fillna(0).plot(kind='bar', figsize=(10,6), title='Total Funding by Round Type per Investor')\n",
    "plt.ylabel('Total Invested ($M)')\n",
    "plt.xlabel('Investor')\n",
    "plt.tight_layout()\n",
    "plt.show()"
   ]
  },
  {
   "cell_type": "markdown",
   "id": "40d14273",
   "metadata": {},
   "source": [
    "## Funding by Sector per Investor"
   ]
  },
  {
   "cell_type": "code",
   "execution_count": null,
   "id": "1d4324e0",
   "metadata": {},
   "outputs": [],
   "source": [
    "query3 = \"\"\"\n",
    "SELECT investor, sector, ROUND(SUM(amount_million), 2) AS total_invested\n",
    "FROM funding\n",
    "GROUP BY investor, sector\n",
    "ORDER BY investor, total_invested DESC;\n",
    "\"\"\"\n",
    "result3 = pd.read_sql(query3, conn)\n",
    "result3.pivot(index='investor', columns='sector', values='total_invested').fillna(0).plot(kind='bar', figsize=(12,6), title='Total Funding by Sector per Investor')\n",
    "plt.ylabel('Total Invested ($M)')\n",
    "plt.xlabel('Investor')\n",
    "plt.tight_layout()\n",
    "plt.show()"
   ]
  },
  {
   "cell_type": "markdown",
   "id": "0bc0dd2d",
   "metadata": {},
   "source": [
    "## Round Type Breakdown by Sector"
   ]
  },
  {
   "cell_type": "code",
   "execution_count": null,
   "id": "e3d125e0",
   "metadata": {},
   "outputs": [],
   "source": [
    "query4 = \"\"\"\n",
    "SELECT sector, round_type, ROUND(SUM(amount_million), 2) AS total_raised\n",
    "FROM funding\n",
    "GROUP BY sector, round_type\n",
    "ORDER BY sector, total_raised DESC;\n",
    "\"\"\"\n",
    "result4 = pd.read_sql(query4, conn)\n",
    "result4.pivot(index='sector', columns='round_type', values='total_raised').fillna(0).plot(kind='bar', figsize=(12,6), title='Total Raised by Round Type per Sector')\n",
    "plt.ylabel('Total Raised ($M)')\n",
    "plt.xlabel('Sector')\n",
    "plt.tight_layout()\n",
    "plt.show()"
   ]
  }
 ],
 "metadata": {
  "language_info": {
   "name": "python"
  }
 },
 "nbformat": 4,
 "nbformat_minor": 5
}
